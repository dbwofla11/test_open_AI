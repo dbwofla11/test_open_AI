{
 "cells": [
  {
   "cell_type": "code",
   "execution_count": null,
   "metadata": {},
   "outputs": [],
   "source": [
    "# "
   ]
  }
 ],
 "metadata": {
  "kernelspec": {
   "display_name": "Python 3",
   "language": "python",
   "name": "python3"
  },
  "language_info": {
   "name": "python",
   "version": "3.11.2"
  },
  "orig_nbformat": 4,
  "vscode": {
   "interpreter": {
    "hash": "36e81ca1d9b75f03901cefe9ba7a4d14cbdba7709fb14e1824f8ae0890d8441f"
   }
  }
 },
 "nbformat": 4,
 "nbformat_minor": 2
}
